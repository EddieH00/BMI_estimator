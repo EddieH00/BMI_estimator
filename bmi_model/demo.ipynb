{
 "cells": [
  {
   "cell_type": "code",
   "execution_count": 1,
   "metadata": {},
   "outputs": [],
   "source": [
    "import sys\n",
    "sys.path.insert(0, '/home/eddieh00/UCSD/ms/ece228/bmi_model/facenet/src')\n",
    "import facenet\n",
    "import tensorflow as tf\n",
    "import os\n",
    "import numpy as np\n",
    "import pandas as pd\n",
    "from PIL import Image\n",
    "from sklearn.model_selection import train_test_split\n"
   ]
  },
  {
   "cell_type": "code",
   "execution_count": 2,
   "metadata": {},
   "outputs": [],
   "source": [
    "def prewhiten(x):\n",
    "    mean = np.mean(x)\n",
    "    std = np.std(x)\n",
    "    std_adj = np.maximum(std, 1.0 / np.sqrt(x.size))\n",
    "    y = np.multiply(np.subtract(x, mean), 1 / std_adj)\n",
    "    return y\n",
    "\n",
    "def load_and_preprocess_image(image_path, image_size):\n",
    "    try:\n",
    "        # Load image\n",
    "        image = Image.open(image_path)\n",
    "        image = image.resize(image_size)\n",
    "        image = np.array(image)\n",
    "\n",
    "        # Preprocess the image\n",
    "        image = prewhiten(image)\n",
    "\n",
    "        return image\n",
    "    except FileNotFoundError:\n",
    "        print(\"File not found: \" + str(image_path))\n",
    "        return None\n",
    "\n",
    "def generate_embeddings(image_paths, labels, model_path, image_size):\n",
    "    assert len(image_paths) == len(labels), \"Number of image paths and labels must be the same.\"\n",
    "    \n",
    "    with tf.Graph().as_default():\n",
    "        with tf.Session() as sess:\n",
    "            # Load the facenet model\n",
    "            facenet.load_model(model_path)\n",
    "\n",
    "            # Get input and output tensors\n",
    "            input_tensor = tf.get_default_graph().get_tensor_by_name(\"input:0\")\n",
    "            output_tensor = tf.get_default_graph().get_tensor_by_name(\"embeddings:0\")\n",
    "            phase_train_tensor = tf.get_default_graph().get_tensor_by_name(\"phase_train:0\")\n",
    "\n",
    "            # Generate embeddings and matching labels\n",
    "            embeddings = []\n",
    "            matching_labels = []\n",
    "            for image_path, label in zip(image_paths, labels):\n",
    "                image = load_and_preprocess_image(image_path, image_size)\n",
    "                if image is not None:\n",
    "                    image = np.expand_dims(image, axis=0)\n",
    "                    emb = sess.run(output_tensor, feed_dict={input_tensor: image, phase_train_tensor: False})\n",
    "                    embeddings.append(emb.flatten())\n",
    "                    matching_labels.append(label)\n",
    "\n",
    "            embeddings = np.array(embeddings)\n",
    "\n",
    "    return embeddings, matching_labels\n",
    "\n",
    "\n",
    "def generate_test_embeddings(image_paths, model_path, image_size):\n",
    "    with tf.Graph().as_default():\n",
    "        with tf.Session() as sess:\n",
    "            # Load the facenet model\n",
    "            facenet.load_model(model_path)\n",
    "\n",
    "            # Get input and output tensors\n",
    "            input_tensor = tf.get_default_graph().get_tensor_by_name(\"input:0\")\n",
    "            output_tensor = tf.get_default_graph().get_tensor_by_name(\"embeddings:0\")\n",
    "            phase_train_tensor = tf.get_default_graph().get_tensor_by_name(\"phase_train:0\")\n",
    "\n",
    "            # Generate embeddings and matching labels\n",
    "            embeddings = []\n",
    "            for image_path in image_paths:\n",
    "                image = load_and_preprocess_image(image_path, image_size)\n",
    "                if image is not None:\n",
    "                    image = np.expand_dims(image, axis=0)\n",
    "                    emb = sess.run(output_tensor, feed_dict={input_tensor: image, phase_train_tensor: False})\n",
    "                    embeddings.append(emb.flatten())\n",
    "\n",
    "            embeddings = np.array(embeddings)\n",
    "\n",
    "    return embeddings\n"
   ]
  },
  {
   "cell_type": "code",
   "execution_count": 5,
   "metadata": {},
   "outputs": [
    {
     "name": "stdout",
     "output_type": "stream",
     "text": [
      "INFO:tensorflow:Restoring parameters from /home/eddieh00/UCSD/ms/ece228/bmi_model/bmi_model/saved models/epoch_38/model_weights.ckpt\n",
      "Model directory: /home/eddieh00/UCSD/ms/ece228/bmi_model/facenet/best_facenet_model\n",
      "Metagraph file: model-20180402-114759.meta\n",
      "Checkpoint file: model-20180402-114759.ckpt-275\n",
      "INFO:tensorflow:Restoring parameters from /home/eddieh00/UCSD/ms/ece228/bmi_model/facenet/best_facenet_model/model-20180402-114759.ckpt-275\n",
      "[[22.036179]]\n"
     ]
    }
   ],
   "source": [
    "from bmi_custom_model2 import BMI_Estimator\n",
    "\n",
    "path = '/home/eddieh00/UCSD/ms/ece228/bmi_model/bmi_model/saved models/epoch_38'\n",
    "with tf.Session() as sess:\n",
    "    test = BMI_Estimator()\n",
    "    checkpoint = tf.train.latest_checkpoint(path)\n",
    "    if checkpoint:\n",
    "        test.load(sess, checkpoint)\n",
    "        \n",
    "    # Prepare your image tensor\n",
    "    test_image = '/home/eddieh00/UCSD/ms/ece228/bmi_model/data/test_images2_cropped/cropped.jpg'\n",
    "    facenet_path = '/home/eddieh00/UCSD/ms/ece228/bmi_model/facenet/best_facenet_model'\n",
    "    testimg = generate_test_embeddings([test_image], model_path=facenet_path, image_size=(160, 160))\n",
    "    imgtensor = tf.convert_to_tensor(testimg, dtype=tf.float32)\n",
    "\n",
    "    # Make a prediction\n",
    "    output_tensor = test.call(imgtensor)\n",
    "\n",
    "    # Evaluate the output tensor and get the actual output\n",
    "    output_value = sess.run(output_tensor)\n",
    "    print(output_value)"
   ]
  },
  {
   "cell_type": "code",
   "execution_count": 1,
   "metadata": {},
   "outputs": [
    {
     "name": "stdout",
     "output_type": "stream",
     "text": [
      "Cropping faces and saving to /home/eddieh00/UCSD/ms/ece228/bmi_model/data/lol_cropped\n"
     ]
    }
   ],
   "source": [
    "import image_crop_processing\n",
    "import matplotlib.pyplot as plt\n",
    "from PIL import Image\n",
    "\n",
    "image_dir = '/home/eddieh00/UCSD/ms/ece228/bmi_model/lol_dataset'\n",
    "cropped_dir = '/home/eddieh00/UCSD/ms/ece228/bmi_model/data/lol_cropped'\n",
    "image_crop_processing.crop_faces(image_dir, cropped_dir)\n",
    "\n"
   ]
  },
  {
   "cell_type": "code",
   "execution_count": null,
   "metadata": {},
   "outputs": [],
   "source": [
    "\n",
    "plt.figure(figsize=(5,5))\n",
    "plt.imshow()\n",
    "plt.axis('off')  # to turn off axes for the image\n",
    "plt.show()\n"
   ]
  }
 ],
 "metadata": {
  "kernelspec": {
   "display_name": "ece228",
   "language": "python",
   "name": "python3"
  },
  "language_info": {
   "codemirror_mode": {
    "name": "ipython",
    "version": 3
   },
   "file_extension": ".py",
   "mimetype": "text/x-python",
   "name": "python",
   "nbconvert_exporter": "python",
   "pygments_lexer": "ipython3",
   "version": "3.5.4"
  },
  "orig_nbformat": 4
 },
 "nbformat": 4,
 "nbformat_minor": 2
}
